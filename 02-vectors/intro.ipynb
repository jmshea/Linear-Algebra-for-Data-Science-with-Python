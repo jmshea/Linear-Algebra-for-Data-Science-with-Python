{
 "cells": [
  {
   "cell_type": "markdown",
   "metadata": {
    "editable": true,
    "slideshow": {
     "slide_type": ""
    },
    "tags": [],
    "user_expressions": []
   },
   "source": [
    "# Vectors and Vector Operations\n",
    "\n",
    "This page links to interactive elements for Chapter 2 of *Linear Algebra for Data Science with Python*. \n",
    "\n",
    "**Interactive elements:**\n",
    "* {doc}`Section 2.1: Introduction to Vectors<1-vectors>` (interactive questions and flashcards)\n",
    "* {doc}`Section 2.2: Visualizing Vectors<2-visualizing>` (interactive vector graphing)\n",
    "* {doc}`Section 2.3: Applications<3-applications>`  (interactive questions and flashcards)\n",
    "* {doc}`Section 2.4: Special Vectors<4-special-vectors>`  (interactive questions and flashcards)\n",
    "* {doc}`Section 2.5: Vector Operations<5-vector-ops>`  (interactive questions and flashcards)\n",
    "* {doc}`Section 2.6: Vector Correlation and Projection<6-correlation-projection>` (interactive questions and flashcards)\n",
    "* {doc}`Section 2.7: Chapter Summary<7-summary>` (interactive questions and flashcards)"
   ]
  },
  {
   "cell_type": "code",
   "execution_count": null,
   "metadata": {
    "editable": true,
    "slideshow": {
     "slide_type": ""
    },
    "tags": []
   },
   "outputs": [],
   "source": []
  }
 ],
 "metadata": {
  "finalized": {
   "timestamp": 1617199748724,
   "trusted": true
  },
  "kernelspec": {
   "display_name": "Python 3 (ipykernel)",
   "language": "python",
   "name": "python3"
  },
  "language_info": {
   "codemirror_mode": {
    "name": "ipython",
    "version": 3
   },
   "file_extension": ".py",
   "mimetype": "text/x-python",
   "name": "python",
   "nbconvert_exporter": "python",
   "pygments_lexer": "ipython3",
   "version": "3.11.0"
  }
 },
 "nbformat": 4,
 "nbformat_minor": 4
}
