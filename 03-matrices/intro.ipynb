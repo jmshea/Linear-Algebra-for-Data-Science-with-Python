{
 "cells": [
  {
   "cell_type": "markdown",
   "metadata": {
    "editable": true,
    "slideshow": {
     "slide_type": ""
    },
    "tags": [],
    "user_expressions": []
   },
   "source": [
    "# Matrices and Operations\n"
   ]
  },
  {
   "cell_type": "markdown",
   "metadata": {
    "editable": true,
    "slideshow": {
     "slide_type": ""
    },
    "tags": [],
    "user_expressions": []
   },
   "source": [
    "\n",
    "This page links to interactive elements for Chapter 2 of *Linear Algebra for Data Science with Python*. \n",
    "\n",
    "**Interactive elements:**\n",
    "* {doc}`Section 3.1: Introduction to Matrices and Tensors<1-matrices>` (interactive questions and flashcards)\n",
    "* {doc}`Section 3.2: Matrix Operations<2-matrix-ops>` (interactive flashcards; interactive questions coming soon)\n",
    "* {doc}`Section 3.3: Matrix-Vector Multiplication as a Linear Transformation<3-mat-vec-mul>`  (interactive flashcards; interactive questions coming soon)\n",
    "* {doc}`Section 3.4: Matrix Multiplication<4-mat-mul>`  (interactive flashcards; interactive questions coming soon)\n",
    "* {doc}`Section 3.5: Matrix Determinant and Linear Transformations<5-determinant>` (interactive flashcards; interactive questions coming soon)\n",
    "* {doc}`Section 3.6: Eigenvalues and Eigenvectors<6-eigen>` (interactive flashcards; interactive questions coming soon)\n",
    "* {doc}`Section 3.7: Chapter Summary<7-summary>` (interactive flashcards; interactive questions coming soon)"
   ]
  }
 ],
 "metadata": {
  "finalized": {
   "timestamp": 1617199748724,
   "trusted": true
  },
  "kernelspec": {
   "display_name": "Python 3 (ipykernel)",
   "language": "python",
   "name": "python3"
  },
  "language_info": {
   "codemirror_mode": {
    "name": "ipython",
    "version": 3
   },
   "file_extension": ".py",
   "mimetype": "text/x-python",
   "name": "python",
   "nbconvert_exporter": "python",
   "pygments_lexer": "ipython3",
   "version": "3.11.0"
  }
 },
 "nbformat": 4,
 "nbformat_minor": 4
}
