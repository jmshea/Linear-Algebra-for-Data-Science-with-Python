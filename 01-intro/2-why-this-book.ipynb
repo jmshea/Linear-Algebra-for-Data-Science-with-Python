{
 "cells": [
  {
   "cell_type": "markdown",
   "metadata": {
    "user_expressions": []
   },
   "source": [
    "# Why learn linear algebra from this book?\n",
    "\n",
    "This book focuses on the most fundamental techniques of linear algebra as they are applied in engineering and the sciences, with a special emphasis on applications to data science. Rather than emphasizing hand manipulation and theory, this book focuses on how to use Python libraries to work with vectors and matrices and how to use these techniques for data science and engineering applications. Using the computer to perform linear algebra not only represents how linear algebra is used in practice but also allows us to work with real data sets that are too large for manipulation by hand to be practical. In addition, the use of computer techniques allows us to better visualize data and the effects of linear algebra techniques.\n",
    "\n",
    "Interactive flashcards and self-assessment quizzes are provided on \n",
    "this website and linked throughout book to help learners master the material and check their understanding. \n",
    "\n",
    "The interactive materials use spaced repetition to help readers retain knowledge as they progress through the book. Starting with [Chapter 2: Vectors and Vector Operations](../02-vectors/intro), the interactive chapter reviews also give a random subset of review problems from earlier chapters. Research shows that spaced repetition improves the retention of material.\n",
    "\n",
    "The chapter summaries also include a list of “take-aways” that help summarize the important points from each chapter.\n",
    "\n"
   ]
  }
 ],
 "metadata": {
  "finalized": {
   "timestamp": 1617199748724,
   "trusted": true
  },
  "kernelspec": {
   "display_name": "Python 3 (ipykernel)",
   "language": "python",
   "name": "python3"
  },
  "language_info": {
   "codemirror_mode": {
    "name": "ipython",
    "version": 3
   },
   "file_extension": ".py",
   "mimetype": "text/x-python",
   "name": "python",
   "nbconvert_exporter": "python",
   "pygments_lexer": "ipython3",
   "version": "3.11.0"
  }
 },
 "nbformat": 4,
 "nbformat_minor": 4
}
