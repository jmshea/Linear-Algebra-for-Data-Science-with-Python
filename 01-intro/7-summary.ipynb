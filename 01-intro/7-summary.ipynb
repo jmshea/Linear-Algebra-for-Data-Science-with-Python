{
 "cells": [
  {
   "cell_type": "markdown",
   "metadata": {
    "user_expressions": []
   },
   "source": [
    "# Chapter Summary\n",
    "\n",
    "Key Take-Aways and Review Materials will be added soon."
   ]
  },
  {
   "cell_type": "markdown",
   "metadata": {
    "user_expressions": []
   },
   "source": [
    "<!--\n",
    "## Key Take-Aways\n",
    "\n",
    " Jupyter notebooks allow mixing programming code, text, graphics, mathematics, and other types of media.\n",
    "* Markdown is the text markup language used by Jupyter.\n",
    "* Jupyter notebooks can use the mathematical markup features of LaTeX to provide beautifully formatted equations.\n",
    "* Python is widely used in the data science and machine learning communities.\n",
    "* Python has many well-developed libraries for data science and other applications.\n",
    "* Python uses 0-based indexing. This is the same as the C/C++ programming language but different than MATLAB.\n",
    "* Python operators try to do the right thing with the inputs they are given, but sometimes this can lead to unexpected results.\n",
    "* Python variables often point to objects like lists and arrays. Setting a new variable equal to an existing variable does not make a copy unless a variable’s \\sphinxcode{copy()} method is used explicitly.\n",
    "* Indentation is used in Python to determine the scope of statements. This is very different than many other languages, such as C/C++, which use delimiters such as \\{\\} for this purpose.\n",
    "-->"
   ]
  },
  {
   "cell_type": "code",
   "execution_count": 3,
   "metadata": {
    "editable": true,
    "slideshow": {
     "slide_type": ""
    },
    "tags": [
     "remove-input"
    ]
   },
   "outputs": [],
   "source": [
    "from jupyterquiz import display_quiz\n",
    "#git_url='https://raw.githubusercontent.com/jmshea/Foundations-of-Data-Science-with-Python/main/'"
   ]
  },
  {
   "cell_type": "markdown",
   "metadata": {
    "user_expressions": []
   },
   "source": [
    "<!-- **Self-Assessment:**\n",
    "\n",
    "The following questions can be used to check your understanding of the material covered in this chapter:\n",
    "-->"
   ]
  },
  {
   "cell_type": "code",
   "execution_count": 5,
   "metadata": {
    "tags": [
     "remove-input"
    ]
   },
   "outputs": [],
   "source": [
    "#file = '01-intro/questions/7-summary.json'\n",
    "#display_quiz(git_url+file, colors='fdsp')"
   ]
  },
  {
   "cell_type": "code",
   "execution_count": 6,
   "metadata": {
    "tags": [
     "remove-input"
    ]
   },
   "outputs": [],
   "source": [
    "from jupytercards import display_flashcards\n",
    "\n",
    "\n",
    "#display_flashcards(\"flashcards/\"+'what-is-data-science.json')\n",
    "\n",
    "#github='https://raw.githubusercontent.com/jmshea/Foundations-of-Data-Science-with-Python/main/'\n",
    "#github+='01-intro/flashcards/'\n",
    "#display_flashcards(github+'what-is-data-science.json')\n",
    "\n"
   ]
  }
 ],
 "metadata": {
  "finalized": {
   "timestamp": 1622215912635,
   "trusted": true
  },
  "kernelspec": {
   "display_name": "Python 3 (ipykernel)",
   "language": "python",
   "name": "python3"
  },
  "language_info": {
   "codemirror_mode": {
    "name": "ipython",
    "version": 3
   },
   "file_extension": ".py",
   "mimetype": "text/x-python",
   "name": "python",
   "nbconvert_exporter": "python",
   "pygments_lexer": "ipython3",
   "version": "3.11.0"
  }
 },
 "nbformat": 4,
 "nbformat_minor": 4
}
