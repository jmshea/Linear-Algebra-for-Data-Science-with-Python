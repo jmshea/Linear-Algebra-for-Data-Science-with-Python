{
 "cells": [
  {
   "cell_type": "markdown",
   "metadata": {
    "user_expressions": []
   },
   "source": [
    "# Who is this book for?\n",
    "\n",
    "Although this book is generally designed for scientists and engineers, it should be accessible to anyone who knows:\n",
    "\n",
    "* Algebra and trigonometry\n",
    "* Some computer programming language (knowing Python is helpful, but not required)\n",
    "* Complex numbers (minimal knowledge, only in [Chapter 6: Transforming Data](../06-transforming-data/intro))\n",
    "\n",
    "This book was written by an engineer with degrees in both electrical and computer engineering. This book and its companion, *Foundations of Data Science with Python*, were written to provide the main textbooks for a 4-credit, semester-long course for engineers taught in the Department of Electrical and Computer Engineering at the University of Florida.\n",
    "\n",
    "These books are intended to be a broad introduction to data science, but they are also designed to replace courses in:\n",
    "\n",
    "* Engineering Statistics\n",
    "* Computational Linear Algebra"
   ]
  }
 ],
 "metadata": {
  "finalized": {
   "timestamp": 1617199748724,
   "trusted": true
  },
  "kernelspec": {
   "display_name": "Python 3 (ipykernel)",
   "language": "python",
   "name": "python3"
  },
  "language_info": {
   "codemirror_mode": {
    "name": "ipython",
    "version": 3
   },
   "file_extension": ".py",
   "mimetype": "text/x-python",
   "name": "python",
   "nbconvert_exporter": "python",
   "pygments_lexer": "ipython3",
   "version": "3.11.0"
  }
 },
 "nbformat": 4,
 "nbformat_minor": 4
}
