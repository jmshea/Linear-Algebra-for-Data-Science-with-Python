{
 "cells": [
  {
   "cell_type": "markdown",
   "metadata": {
    "user_expressions": []
   },
   "source": [
    "# Introduction\n",
    "\n",
    "Welcome to **Linear Algebra for Data Science with Python**!\n",
    "\n",
    "This chapter introduces the book and its place in the field of linear algebra and data science. It then provides a brief introduction to some of the tools that are used throughout the book.\n",
    "\n",
    "By the end of this book, you will learn:\n",
    "\n",
    "* The fundamental operations on vectors and matrices\n",
    "* How to use matrices and vectors to understand and solve systems of linear equations\n",
    "* The interpretation of matrix multiplication as a transformation between vector spaces\n",
    "* How a square matrix can have special vectors called **eigenvectors** that preserve their direction when multiplied by that matrix\n",
    "* How to use matrix techniques for exact and approximate data fitting, and\n",
    "* How to use alternate basis vectors to extract useful or important features from data\n",
    "\n",
    "While this book does show how to perform many vector and matrix operations and manipulations by hand, the emphasis is on the meaning and application of the techniques. Techniques to perform these operations are always shown in Python using common Python data science libraries."
   ]
  },
  {
   "cell_type": "code",
   "execution_count": null,
   "metadata": {},
   "outputs": [],
   "source": []
  }
 ],
 "metadata": {
  "finalized": {
   "timestamp": 1617199748724,
   "trusted": true
  },
  "kernelspec": {
   "display_name": "Python 3 (ipykernel)",
   "language": "python",
   "name": "python3"
  },
  "language_info": {
   "codemirror_mode": {
    "name": "ipython",
    "version": 3
   },
   "file_extension": ".py",
   "mimetype": "text/x-python",
   "name": "python",
   "nbconvert_exporter": "python",
   "pygments_lexer": "ipython3",
   "version": "3.11.0"
  }
 },
 "nbformat": 4,
 "nbformat_minor": 4
}
